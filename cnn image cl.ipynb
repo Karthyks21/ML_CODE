{
 "cells": [
  {
   "cell_type": "code",
   "execution_count": 16,
   "id": "3a4aa7df-3e73-4ef7-8039-c2bb05134846",
   "metadata": {},
   "outputs": [],
   "source": [
    "import numpy as np\n",
    "import random\n",
    "import matplotlib.pyplot as plt\n",
    "from tensorflow.keras.models import Sequential\n",
    "from tensorflow.keras.layers import Conv2D, MaxPooling2D, Dense, Flatten"
   ]
  },
  {
   "cell_type": "code",
   "execution_count": 37,
   "id": "763fa36c-1548-44de-9b0b-9293202d24de",
   "metadata": {},
   "outputs": [],
   "source": [
    "import pandas as pd\n",
    "\n",
    "X_train = pd.read_csv(\"D:/DL/input.csv\").values\n",
    "Y_train = pd.read_csv(\"D:/DL/labels.csv\").values\n",
    "\n",
    "X_test = pd.read_csv(\"D:/DL/input_test.csv\").values\n",
    "Y_test = pd.read_csv(\"D:/DL/labels_test.csv\").values\n"
   ]
  },
  {
   "cell_type": "code",
   "execution_count": 38,
   "id": "69f10de0-baca-4666-bb5a-746bf7a9b8d2",
   "metadata": {},
   "outputs": [
    {
     "data": {
      "text/plain": [
       "(1999, 30000)"
      ]
     },
     "execution_count": 38,
     "metadata": {},
     "output_type": "execute_result"
    }
   ],
   "source": [
    "X_train.shape"
   ]
  },
  {
   "cell_type": "code",
   "execution_count": 41,
   "id": "001eff9c-f63e-4c81-bf9a-3f044fef92dd",
   "metadata": {},
   "outputs": [],
   "source": [
    "X_train = X_train.reshape(len(X_train), 100, 100, 3)\n",
    "Y_train = Y_train.reshape(len(Y_train), 1)\n",
    "\n",
    "X_test = X_test.reshape(len(X_test), 100, 100, 3)\n",
    "Y_test = Y_test.reshape(len(Y_test), 1)\n"
   ]
  },
  {
   "cell_type": "code",
   "execution_count": 43,
   "id": "59c6b99b-a2f7-47ce-a7d7-3903badb4879",
   "metadata": {},
   "outputs": [
    {
     "data": {
      "text/plain": [
       "(1999, 100, 100, 3)"
      ]
     },
     "execution_count": 43,
     "metadata": {},
     "output_type": "execute_result"
    }
   ],
   "source": [
    "X_train.shape"
   ]
  },
  {
   "cell_type": "code",
   "execution_count": 47,
   "id": "7379ca69-3dcb-462e-baa9-d63b01de9cad",
   "metadata": {},
   "outputs": [],
   "source": [
    "#SCALING\n",
    "X_train = X_train/255.0\n",
    "X_test = X_test/255.0"
   ]
  },
  {
   "cell_type": "code",
   "execution_count": 49,
   "id": "eb8f4080-e8f1-4d18-9041-a96af1e1c54a",
   "metadata": {},
   "outputs": [
    {
     "data": {
      "image/png": "[encoded data removed]",
      "text/plain": [
       "<Figure size 640x480 with 1 Axes>"
      ]
     },
     "metadata": {},
     "output_type": "display_data"
    }
   ],
   "source": [
    "idx = random.randint(200, len(X_train))\n",
    "plt.imshow(X_train[idx, :])\n",
    "plt.show()"
   ]
  },
  {
   "cell_type": "code",
   "execution_count": 51,
   "id": "2f1a402b-b095-4c72-97a3-9de07b20c886",
   "metadata": {},
   "outputs": [
    {
     "name": "stderr",
     "output_type": "stream",
     "text": [
      "C:\\Users\\Karthick\\anaconda3\\Lib\\site-packages\\keras\\src\\layers\\convolutional\\base_conv.py:107: UserWarning: Do not pass an `input_shape`/`input_dim` argument to a layer. When using Sequential models, prefer using an `Input(shape)` object as the first layer in the model instead.\n",
      "  super().__init__(activity_regularizer=activity_regularizer, **kwargs)\n"
     ]
    }
   ],
   "source": [
    "model = Sequential([\n",
    "    Conv2D(32, (3,3), activation = 'relu', input_shape = (100, 100, 3)),\n",
    "    MaxPooling2D((2,2)),\n",
    "    \n",
    "    Conv2D(32, (3,3), activation = 'relu'),\n",
    "    MaxPooling2D((2,2)),\n",
    "    \n",
    "    Flatten(),\n",
    "    Dense(64, activation = 'relu'),\n",
    "    Dense(1, activation = 'sigmoid')  # binary\n",
    "])\n"
   ]
  },
  {
   "cell_type": "code",
   "execution_count": 53,
   "id": "4956462c-9376-4a45-9f65-e04897b46d69",
   "metadata": {},
   "outputs": [],
   "source": [
    "model.compile(loss = 'binary_crossentropy', optimizer = 'adam', metrics = ['accuracy'])"
   ]
  },
  {
   "cell_type": "code",
   "execution_count": 55,
   "id": "4441cf37-6ee1-4446-955d-0dfa20f42b21",
   "metadata": {},
   "outputs": [
    {
     "name": "stdout",
     "output_type": "stream",
     "text": [
      "Epoch 1/5\n",
      "\u001b[1m63/63\u001b[0m \u001b[32m━━━━━━━━━━━━━━━━━━━━\u001b[0m\u001b[37m\u001b[0m \u001b[1m12s\u001b[0m 152ms/step - accuracy: 0.4785 - loss: 0.6934\n",
      "Epoch 2/5\n",
      "\u001b[1m63/63\u001b[0m \u001b[32m━━━━━━━━━━━━━━━━━━━━\u001b[0m\u001b[37m\u001b[0m \u001b[1m11s\u001b[0m 181ms/step - accuracy: 0.4913 - loss: 0.6932\n",
      "Epoch 3/5\n",
      "\u001b[1m63/63\u001b[0m \u001b[32m━━━━━━━━━━━━━━━━━━━━\u001b[0m\u001b[37m\u001b[0m \u001b[1m10812s\u001b[0m 174s/step - accuracy: 0.4779 - loss: 0.6932\n",
      "Epoch 4/5\n",
      "\u001b[1m63/63\u001b[0m \u001b[32m━━━━━━━━━━━━━━━━━━━━\u001b[0m\u001b[37m\u001b[0m \u001b[1m63087s\u001b[0m 302ms/step - accuracy: 0.4920 - loss: 0.6932\n",
      "Epoch 5/5\n",
      "\u001b[1m63/63\u001b[0m \u001b[32m━━━━━━━━━━━━━━━━━━━━\u001b[0m\u001b[37m\u001b[0m \u001b[1m13s\u001b[0m 188ms/step - accuracy: 0.5040 - loss: 0.6932\n"
     ]
    },
    {
     "data": {
      "text/plain": [
       "<keras.src.callbacks.history.History at 0x2492277d3a0>"
      ]
     },
     "execution_count": 55,
     "metadata": {},
     "output_type": "execute_result"
    }
   ],
   "source": [
    "model.fit(X_train, Y_train, epochs = 5)"
   ]
  },
  {
   "cell_type": "code",
   "execution_count": 57,
   "id": "2cac8790-e0d0-4353-a3c0-307ab7da1288",
   "metadata": {},
   "outputs": [
    {
     "name": "stdout",
     "output_type": "stream",
     "text": [
      "\u001b[1m13/13\u001b[0m \u001b[32m━━━━━━━━━━━━━━━━━━━━\u001b[0m\u001b[37m\u001b[0m \u001b[1m1s\u001b[0m 44ms/step - accuracy: 0.2100 - loss: 0.6940 \n"
     ]
    },
    {
     "data": {
      "text/plain": [
       "[0.6931444406509399, 0.5012531280517578]"
      ]
     },
     "execution_count": 57,
     "metadata": {},
     "output_type": "execute_result"
    }
   ],
   "source": [
    "model.evaluate(X_test, Y_test)"
   ]
  },
  {
   "cell_type": "code",
   "execution_count": 59,
   "id": "f93aa12a-8489-4174-8146-0e4adf3e7e1e",
   "metadata": {},
   "outputs": [
    {
     "data": {
      "image/png": "[encoded data removed]",
      "text/plain": [
       "<Figure size 640x480 with 1 Axes>"
      ]
     },
     "metadata": {},
     "output_type": "display_data"
    },
    {
     "name": "stdout",
     "output_type": "stream",
     "text": [
      "\u001b[1m1/1\u001b[0m \u001b[32m━━━━━━━━━━━━━━━━━━━━\u001b[0m\u001b[37m\u001b[0m \u001b[1m0s\u001b[0m 257ms/step\n",
      "[[ True]]\n",
      "Our model says it is a : cat\n"
     ]
    }
   ],
   "source": [
    "idx2 = random.randint(0, len(Y_test))\n",
    "plt.imshow(X_test[idx2, :])\n",
    "plt.show()\n",
    "\n",
    "y_pred = model.predict(X_test[idx2, :].reshape(1, 100, 100, 3))\n",
    "y_pred = y_pred > 0.5\n",
    "print(y_pred)\n",
    "\n",
    "if(y_pred == 0):\n",
    "    pred = 'dog'\n",
    "else:\n",
    "    pred = 'cat'\n",
    "    \n",
    "print(\"Our model says it is a :\", pred)"
   ]
  },
  {
   "cell_type": "code",
   "execution_count": 63,
   "id": "0f5b4444-3b05-40fe-824f-d389d76e70eb",
   "metadata": {},
   "outputs": [
    {
     "name": "stderr",
     "output_type": "stream",
     "text": [
      "C:\\Users\\Karthick\\anaconda3\\Lib\\site-packages\\keras\\src\\layers\\core\\dense.py:87: UserWarning: Do not pass an `input_shape`/`input_dim` argument to a layer. When using Sequential models, prefer using an `Input(shape)` object as the first layer in the model instead.\n",
      "  super().__init__(activity_regularizer=activity_regularizer, **kwargs)\n"
     ]
    }
   ],
   "source": [
    "from tensorflow import keras\n",
    "from tensorflow.keras import regularizers\n",
    "\n",
    "# Define the model with L2 regularization (also called Ridge)\n",
    "model = keras.Sequential([\n",
    "    keras.layers.Dense(100, input_shape=(784,), activation='relu',\n",
    "                       kernel_regularizer=regularizers.l2(0.001)),  # L2 regularization\n",
    "    keras.layers.Dense(10, activation='sigmoid')\n",
    "])\n",
    "\n"
   ]
  },
  {
   "cell_type": "code",
   "execution_count": 65,
   "id": "e7c7ec9e-a016-428f-b710-97366669c8e2",
   "metadata": {},
   "outputs": [],
   "source": [
    "\n",
    "# Compile the model\n",
    "model.compile(optimizer='adam',\n",
    "              loss='sparse_categorical_crossentropy',\n",
    "              metrics=['accuracy'])\n"
   ]
  },
  {
   "cell_type": "code",
   "execution_count": 69,
   "id": "2abe37a0-7173-40c1-8b93-8a23d1ba5d75",
   "metadata": {
    "scrolled": true
   },
   "outputs": [
    {
     "ename": "NameError",
     "evalue": "name 'X_train_flattened' is not defined",
     "output_type": "error",
     "traceback": [
      "\u001b[1;31m---------------------------------------------------------------------------\u001b[0m",
      "\u001b[1;31mNameError\u001b[0m                                 Traceback (most recent call last)",
      "Cell \u001b[1;32mIn[69], line 2\u001b[0m\n\u001b[0;32m      1\u001b[0m \u001b[38;5;66;03m# Train the model\u001b[39;00m\n\u001b[1;32m----> 2\u001b[0m model\u001b[38;5;241m.\u001b[39mfit(X_train_flattened, y_train, epochs \u001b[38;5;241m=\u001b[39m\u001b[38;5;241m5\u001b[39m, batch_size\u001b[38;5;241m=\u001b[39m\u001b[38;5;241m32\u001b[39m)\n",
      "\u001b[1;31mNameError\u001b[0m: name 'X_train_flattened' is not defined"
     ]
    }
   ],
   "source": [
    "\n",
    "# Train the model\n",
    "model.fit(X_train_flattened, y_train, epochs =5, batch_size=32)"
   ]
  },
  {
   "cell_type": "code",
   "execution_count": null,
   "id": "a2964117-f0b1-4a7c-970d-1419dd84b817",
   "metadata": {},
   "outputs": [],
   "source": []
  }
 ],
 "metadata": {
  "kernelspec": {
   "display_name": "Python [conda env:base] *",
   "language": "python",
   "name": "conda-base-py"
  },
  "language_info": {
   "codemirror_mode": {
    "name": "ipython",
    "version": 3
   },
   "file_extension": ".py",
   "mimetype": "text/x-python",
   "name": "python",
   "nbconvert_exporter": "python",
   "pygments_lexer": "ipython3",
   "version": "3.12.7"
  }
 },
 "nbformat": 4,
 "nbformat_minor": 5
}
