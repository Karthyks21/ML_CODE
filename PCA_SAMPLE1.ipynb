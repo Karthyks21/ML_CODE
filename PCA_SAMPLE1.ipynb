{
 "cells": [
  {
   "cell_type": "code",
   "execution_count": 1,
   "id": "d7325ffc-f6d6-48b4-b43c-50f28237e8d1",
   "metadata": {},
   "outputs": [],
   "source": [
    "import numpy as np\n",
    "import pandas as pd\n",
    "import time\n",
    "from sklearn.datasets import load_digits\n",
    "from sklearn.model_selection import train_test_split\n",
    "from sklearn.preprocessing import StandardScaler\n",
    "from sklearn.linear_model import LogisticRegression\n",
    "from sklearn.decomposition import PCA\n",
    "from sklearn.metrics import accuracy_score"
   ]
  },
  {
   "cell_type": "code",
   "execution_count": 2,
   "id": "87ca8850-d500-44ea-9e77-3af947b14da6",
   "metadata": {},
   "outputs": [],
   "source": [
    "digits = load_digits()"
   ]
  },
  {
   "cell_type": "code",
   "execution_count": 3,
   "id": "72eb12cc-6ab1-4742-b2ec-d1cd5eeaf1ce",
   "metadata": {},
   "outputs": [],
   "source": [
    "x = digits.data  # shape (1797, 64)\n",
    "y = digits.target"
   ]
  },
  {
   "cell_type": "code",
   "execution_count": 4,
   "id": "6826752e-1457-41cd-8d01-6b1f174d38b4",
   "metadata": {},
   "outputs": [],
   "source": [
    "df = pd.DataFrame(digits.data)"
   ]
  },
  {
   "cell_type": "code",
   "execution_count": 5,
   "id": "f5401806-1662-43cb-89eb-c42bf4c80969",
   "metadata": {},
   "outputs": [
    {
     "name": "stdout",
     "output_type": "stream",
     "text": [
      "RangeIndex(start=0, stop=64, step=1)\n"
     ]
    }
   ],
   "source": [
    "print(df.columns)"
   ]
  },
  {
   "cell_type": "code",
   "execution_count": 11,
   "id": "15193324-a568-41c2-89d5-0b155a161329",
   "metadata": {},
   "outputs": [],
   "source": [
    "x_train,x_test,y_train,y_test = train_test_split(x,y,test_size = 0.2,random_state = 42)"
   ]
  },
  {
   "cell_type": "code",
   "execution_count": 13,
   "id": "737573bd-b120-4810-947f-37e2d9d224e6",
   "metadata": {},
   "outputs": [],
   "source": [
    "# Standardize features (important before PCA)\n",
    "scaler = StandardScaler()\n",
    "x_train_scaled = scaler.fit_transform(x_train)\n",
    "x_test_scaled = scaler.transform(x_test)"
   ]
  },
  {
   "cell_type": "code",
   "execution_count": 31,
   "id": "42e9bd51-93e9-4ef0-bc26-7b90dca11a3f",
   "metadata": {},
   "outputs": [
    {
     "name": "stdout",
     "output_type": "stream",
     "text": [
      "     0         1         2         3         4         5         6         7   \\\n",
      "0   0.0  0.000000  0.000000  0.000000  0.000000  0.000000  0.000000  0.000000   \n",
      "1   0.0  1.000696  0.576752  0.212836 -0.038761  0.058370  0.050060 -0.041330   \n",
      "2   0.0  0.576752  1.000696  0.551693 -0.106304  0.026336 -0.004081 -0.068225   \n",
      "3   0.0  0.212836  0.551693  1.000696  0.025989 -0.189223 -0.113339 -0.039125   \n",
      "4   0.0 -0.038761 -0.106304  0.025989  1.000696  0.505891  0.123891  0.018526   \n",
      "..  ...       ...       ...       ...       ...       ...       ...       ...   \n",
      "59  0.0  0.177165  0.505551  0.772705 -0.004042 -0.076862 -0.047875  0.004436   \n",
      "60  0.0 -0.096505 -0.132713 -0.061610 -0.083264 -0.357099 -0.401449 -0.183493   \n",
      "61  0.0 -0.022600 -0.037094 -0.056628 -0.232494 -0.269516 -0.309886 -0.148906   \n",
      "62  0.0  0.040697  0.094932  0.070507 -0.270522 -0.273826 -0.176991 -0.066372   \n",
      "63  0.0 -0.040406  0.093040  0.094287 -0.214560 -0.167182 -0.080125 -0.025842   \n",
      "\n",
      "          8         9   ...        54        55        56        57        58  \\\n",
      "0   0.000000  0.000000  ...  0.000000  0.000000  0.000000  0.000000  0.000000   \n",
      "1   0.046373  0.562745  ...  0.041739 -0.041164 -0.009023  0.857296  0.575330   \n",
      "2   0.032047  0.580057  ...  0.057986 -0.003434 -0.028715  0.529285  0.940792   \n",
      "3   0.031050  0.330904  ...  0.147380  0.078709 -0.054372  0.176585  0.554633   \n",
      "4   0.046179  0.038372  ... -0.269693 -0.237493  0.019194 -0.062861 -0.041545   \n",
      "..       ...       ...  ...       ...       ...       ...       ...       ...   \n",
      "59  0.045772  0.320559  ...  0.101510  0.052950 -0.042563  0.141413  0.489223   \n",
      "60  0.050235  0.010924  ...  0.394855  0.112714  0.006193 -0.104562 -0.209156   \n",
      "61  0.052634  0.093326  ...  0.710182  0.280095 -0.003574 -0.032032 -0.085477   \n",
      "62  0.033596  0.129056  ...  0.603736  0.525455 -0.013368  0.030897  0.062409   \n",
      "63 -0.003894 -0.000709  ...  0.190822  0.555872 -0.005205 -0.045952  0.046379   \n",
      "\n",
      "          59        60        61        62        63  \n",
      "0   0.000000  0.000000  0.000000  0.000000  0.000000  \n",
      "1   0.177165 -0.096505 -0.022600  0.040697 -0.040406  \n",
      "2   0.505551 -0.132713 -0.037094  0.094932  0.093040  \n",
      "3   0.772705 -0.061610 -0.056628  0.070507  0.094287  \n",
      "4  -0.004042 -0.083264 -0.232494 -0.270522 -0.214560  \n",
      "..       ...       ...       ...       ...       ...  \n",
      "59  1.000696  0.042825 -0.104745  0.020532  0.109844  \n",
      "60  0.042825  1.000696  0.612753  0.245067  0.101635  \n",
      "61 -0.104745  0.612753  1.000696  0.647682  0.260336  \n",
      "62  0.020532  0.245067  0.647682  1.000696  0.616435  \n",
      "63  0.109844  0.101635  0.260336  0.616435  1.000696  \n",
      "\n",
      "[64 rows x 64 columns]\n"
     ]
    }
   ],
   "source": [
    "#covarience not requiared here----\n",
    "cov_matrix = np.cov(x_train_scaled.T)\n",
    "print(pd.DataFrame(cov_matrix, index=df.columns, columns=df.columns))"
   ]
  },
  {
   "cell_type": "code",
   "execution_count": 15,
   "id": "c66fe355-b7c8-48a1-81d4-7fda99fb64e5",
   "metadata": {},
   "outputs": [],
   "source": [
    "# Train a model without PCA\n",
    "\n",
    "model_original = LogisticRegression()\n",
    "model_original.fit(x_train_scaled, y_train)\n",
    "y_pred_original = model_original.predict(x_test_scaled)\n",
    "acc_original = accuracy_score(y_test, y_pred_original)\n"
   ]
  },
  {
   "cell_type": "code",
   "execution_count": 29,
   "id": "ab640662-74c6-4396-b5c4-87e6f339768c",
   "metadata": {},
   "outputs": [],
   "source": [
    "# Apply PCA to reduce dimensions (let's reduce to 5 components for visualization)\n",
    "\n",
    "\n",
    "pca = PCA(n_components=5)\n",
    "x_train_pca = pca.fit_transform(x_train_scaled)\n",
    "x_test_pca = pca.transform(x_test_scaled)\n",
    "\n",
    "# Train a model with PCA-reduced data\n",
    "\n",
    "model_pca = LogisticRegression()\n",
    "model_pca.fit(x_train_pca, y_train)\n",
    "y_pred_pca = model_pca.predict(x_test_pca)\n",
    "acc_pca = accuracy_score(y_test, y_pred_pca)\n",
    "\n"
   ]
  },
  {
   "cell_type": "code",
   "execution_count": 25,
   "id": "a9a06df7-dd10-423c-8447-00daadbec47c",
   "metadata": {},
   "outputs": [
    {
     "name": "stdout",
     "output_type": "stream",
     "text": [
      "Accuracy without PCA: 0.9722222222222222\n",
      "Accuracy with PCA (2 components): 0.5166666666666667\n",
      "Original shape: (1437, 64)\n",
      "PCA-reduced shape: (1437, 2)\n"
     ]
    }
   ],
   "source": [
    "# Print results\n",
    "print(\"Accuracy without PCA:\", acc_original)\n",
    "print(\"Accuracy with PCA (2 components):\", acc_pca)\n",
    "print(\"Original shape:\", x_train.shape)\n",
    "print(\"PCA-reduced shape:\", x_train_pca.shape)"
   ]
  }
 ],
 "metadata": {
  "kernelspec": {
   "display_name": "Python [conda env:base] *",
   "language": "python",
   "name": "conda-base-py"
  },
  "language_info": {
   "codemirror_mode": {
    "name": "ipython",
    "version": 3
   },
   "file_extension": ".py",
   "mimetype": "text/x-python",
   "name": "python",
   "nbconvert_exporter": "python",
   "pygments_lexer": "ipython3",
   "version": "3.12.7"
  }
 },
 "nbformat": 4,
 "nbformat_minor": 5
}
