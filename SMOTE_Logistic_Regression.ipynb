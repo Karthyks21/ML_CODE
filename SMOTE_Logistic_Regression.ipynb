{
 "cells": [
  {
   "cell_type": "code",
   "execution_count": 1,
   "id": "1c255707-058b-4b6f-a119-4d6049835d0a",
   "metadata": {},
   "outputs": [
    {
     "name": "stdout",
     "output_type": "stream",
     "text": [
      "Target categories: [array(['no rain', 'rain'], dtype=object)]\n",
      "Classification Report:\n",
      "               precision    recall  f1-score   support\n",
      "\n",
      "     No Rain       0.99      0.89      0.94       443\n",
      "        Rain       0.53      0.91      0.67        57\n",
      "\n",
      "    accuracy                           0.90       500\n",
      "   macro avg       0.76      0.90      0.80       500\n",
      "weighted avg       0.93      0.90      0.91       500\n",
      "\n"
     ]
    }
   ],
   "source": [
    "import pandas as pd\n",
    "from sklearn.model_selection import train_test_split\n",
    "from sklearn.preprocessing import OrdinalEncoder, StandardScaler\n",
    "from sklearn.linear_model import LogisticRegression\n",
    "from sklearn.metrics import classification_report\n",
    "from imblearn.over_sampling import SMOTE  # <- NOTE: from imblearn, not sklearn\n",
    "\n",
    "# Step 1: Load your data\n",
    "df = pd.read_csv(\"D:/ML/Logistic/weather_forecast_data_Classification_Regression.csv\")\n",
    "\n",
    "# Step 2: Encode the target (Rain: 'Yes'/'No') to numeric (0 and 1)\n",
    "encoder = OrdinalEncoder()\n",
    "df['Rain'] = encoder.fit_transform(df[['Rain']])  # target column\n",
    "print(\"Target categories:\", encoder.categories_)\n",
    "\n",
    "# Step 3: Split into features (X) and target (y)\n",
    "X = df.drop(\"Rain\", axis=1)\n",
    "y = df[\"Rain\"]\n",
    "\n",
    "# Step 4: Train-test split\n",
    "x_train, x_test, y_train, y_test = train_test_split(X, y, test_size=0.2, random_state=42)\n",
    "\n",
    "# Step 5: Apply SMOTE to training data\n",
    "smote = SMOTE(random_state=42)\n",
    "x_train_smote, y_train_smote = smote.fit_resample(x_train, y_train)\n",
    "\n",
    "# Step 6: Standardize the features (important for logistic regression)\n",
    "scaler = StandardScaler()\n",
    "x_train_scaled = scaler.fit_transform(x_train_smote)\n",
    "x_test_scaled = scaler.transform(x_test)\n",
    "\n",
    "# Step 7: Train the logistic regression model\n",
    "model = LogisticRegression()\n",
    "model.fit(x_train_scaled, y_train_smote)\n",
    "\n",
    "# Step 8: Predict and evaluate\n",
    "y_pred = model.predict(x_test_scaled)\n",
    "print(\"Classification Report:\\n\", classification_report(y_test, y_pred, target_names=[\"No Rain\", \"Rain\"]))\n"
   ]
  },
  {
   "cell_type": "code",
   "execution_count": null,
   "id": "36c39f41-357b-4de7-b8a4-7a2aeeb2849d",
   "metadata": {},
   "outputs": [],
   "source": []
  }
 ],
 "metadata": {
  "kernelspec": {
   "display_name": "Python [conda env:base] *",
   "language": "python",
   "name": "conda-base-py"
  },
  "language_info": {
   "codemirror_mode": {
    "name": "ipython",
    "version": 3
   },
   "file_extension": ".py",
   "mimetype": "text/x-python",
   "name": "python",
   "nbconvert_exporter": "python",
   "pygments_lexer": "ipython3",
   "version": "3.12.7"
  }
 },
 "nbformat": 4,
 "nbformat_minor": 5
}
